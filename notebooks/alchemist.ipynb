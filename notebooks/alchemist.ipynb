{
 "cells": [
  {
   "cell_type": "code",
   "execution_count": null,
   "id": "aa31f422",
   "metadata": {},
   "outputs": [],
   "source": [
    "import sys\n",
    "import os\n",
    "\n",
    "root_pth = os.path.abspath(os.path.join(os.getcwd(), \"..\"))\n",
    "if root_pth in sys.path:\n",
    "    sys.path.append(root_pth)"
   ]
  }
 ],
 "metadata": {
  "language_info": {
   "name": "python"
  }
 },
 "nbformat": 4,
 "nbformat_minor": 5
}
