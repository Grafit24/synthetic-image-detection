{
 "cells": [
  {
   "cell_type": "code",
   "execution_count": 1,
   "id": "aa31f422",
   "metadata": {},
   "outputs": [],
   "source": [
    "import sys\n",
    "import os\n",
    "\n",
    "root_pth = os.path.abspath(os.path.join(os.getcwd(), \"..\"))\n",
    "if root_pth not in sys.path:\n",
    "    sys.path.append(root_pth)"
   ]
  },
  {
   "cell_type": "code",
   "execution_count": 2,
   "id": "a007f54e-af0e-45b0-aaf4-fbe8b6da6a11",
   "metadata": {},
   "outputs": [],
   "source": [
    "from sana_clf.pipeline import SanaClassifierPipeline, SanaClassifierParameters, SanaText2ImgParameters\n",
    "from sana_clf.train import train"
   ]
  },
  {
   "cell_type": "code",
   "execution_count": 3,
   "id": "03743346-79d3-40ee-bf02-6b50085673a4",
   "metadata": {},
   "outputs": [],
   "source": [
    "prompt = \"\"\"AI-generated. synthetic. photo. photorealistic. midjourney. rendering. instagram filters. realistic skin texture. pores and tiny blemishes.\"\"\""
   ]
  },
  {
   "cell_type": "code",
   "execution_count": 4,
   "id": "94ce4963-5128-4eb9-b4b1-a43555b7951d",
   "metadata": {},
   "outputs": [],
   "source": [
    "transformer_layers_and_token_ids_top100 = {11: [24, 8, 1],\n",
    " 13: [8, 11, 21, 7, 14, 18, 23],\n",
    " 8: [7, 14, 28, 19, 25],\n",
    " 6: [20, 12, 9, 23, 10],\n",
    " 5: [7, 22, 21, 24, 5, 4, 9, 16],\n",
    " 0: [8, 11, 6, 3, 12, 22],\n",
    " 9: [8, 6],\n",
    " 25: [17],\n",
    " 4: [20, 23, 19, 27],\n",
    " 21: [12, 9, 14],\n",
    " 1: [7, 28, 2, 14, 9, 26, 19],\n",
    " 22: [1, 3],\n",
    " 3: [8, 10, 13, 28, 20],\n",
    " 14: [28, 18, 19],\n",
    " 7: [12, 7, 19, 22, 11, 28, 14],\n",
    " 27: [24, 3, 22, 21, 26],\n",
    " 12: [12, 27, 24],\n",
    " 15: [22, 14, 15, 21],\n",
    " 24: [11, 16, 17, 25],\n",
    " 26: [10, 27],\n",
    " 18: [13, 17, 22, 2],\n",
    " 20: [8, 3],\n",
    " 23: [5, 3],\n",
    " 19: [16, 24],\n",
    " 10: [14, 24],\n",
    " 17: [17],\n",
    " 2: [10]}\n",
    "\n",
    "transformer_layers_and_token_ids_top300 = {11: [24, 8, 1, 14, 26, 11, 9, 12, 27, 19, 2, 20, 10],\n",
    " 13: [8, 11, 21, 7, 14, 18, 23, 2, 13, 16, 4, 19, 5, 12],\n",
    " 8: [7, 14, 28, 19, 25, 8, 20, 22, 6, 9, 12, 13, 11, 21, 1],\n",
    " 6: [20, 12, 9, 23, 10, 26, 15, 22, 24, 14, 13, 8, 7, 16],\n",
    " 5: [7, 22, 21, 24, 5, 4, 9, 16, 10, 28, 17, 12, 27, 23, 20, 14, 19],\n",
    " 0: [8, 11, 6, 3, 12, 22, 1, 23, 19, 10],\n",
    " 9: [8, 6, 5, 11, 9, 14, 12, 20, 7, 13, 16, 15, 27, 4, 26],\n",
    " 25: [17, 28, 2, 4, 12],\n",
    " 4: [20, 23, 19, 27, 16, 24, 14, 21, 2, 13, 4, 15, 8, 7, 9, 12, 6],\n",
    " 21: [12, 9, 14, 24, 4, 21, 7, 5, 16],\n",
    " 1: [7, 28, 2, 14, 9, 26, 19, 8, 11, 21, 23, 17],\n",
    " 22: [1, 3, 7, 14, 5, 17, 8, 12, 24],\n",
    " 3: [8, 10, 13, 28, 20, 7, 14, 11, 6, 9, 22, 16, 19, 15],\n",
    " 14: [28, 18, 19, 25, 7, 2, 14, 6],\n",
    " 7: [12, 7, 19, 22, 11, 28, 14, 1, 23, 2, 24, 13, 21, 6, 8, 20, 9],\n",
    " 27: [24, 3, 22, 21, 26, 18, 20, 13, 2, 23, 15],\n",
    " 12: [12, 27, 24, 11, 8, 19, 25, 4],\n",
    " 15: [22, 14, 15, 21, 23, 18, 16, 13],\n",
    " 24: [11, 16, 17, 25, 18, 10, 26, 9, 28, 24, 27, 13, 12, 1],\n",
    " 26: [10, 27, 24, 18, 14, 1, 16, 22, 3, 4, 28, 2, 5, 12, 25, 9, 8],\n",
    " 18: [13, 17, 22, 2],\n",
    " 20: [8, 3, 14, 16],\n",
    " 23: [5, 3, 22, 1, 21, 16, 6, 28, 11, 2, 23, 4, 24, 17, 25, 12],\n",
    " 19: [16, 24, 26, 6, 22],\n",
    " 10: [14, 24, 16, 3, 4, 23, 15, 13],\n",
    " 17: [17, 20, 25, 12, 14, 21],\n",
    " 2: [10, 4, 8, 28, 14, 11, 20, 23, 2],\n",
    " 16: [1]}"
   ]
  },
  {
   "cell_type": "code",
   "execution_count": 5,
   "id": "cd6f72e3-b1c3-417e-ab26-35f5d3449375",
   "metadata": {},
   "outputs": [],
   "source": [
    "# transformer_layers_and_token_ids = [24, 25, 9, 23, 22, 0, 21, 10, 27]\n",
    "transformer_layers_and_token_ids_top1000 = {\n",
    "    11: [\n",
    "        24, 8, 1, 14, 26, 11, 9, 12, 27, 19,\n",
    "        2, 20, 10, 21, 22, 4, 23, 28, 15, 18,\n",
    "        5, 25, 7, 0, 17, 3, 16, 6, 13\n",
    "    ],\n",
    "    13: [\n",
    "        8, 11, 21, 7, 14, 18, 23, 2, 13, 16,\n",
    "        4, 19, 5, 12, 25, 6, 22, 26, 17, 20,\n",
    "        10, 1, 9, 28, 0, 24, 3, 27, 15\n",
    "    ],\n",
    "    8: [\n",
    "        7, 14, 28, 19, 25, 8, 20, 22, 6, 9,\n",
    "        12, 13, 11, 21, 1, 23, 2, 4, 16, 5,\n",
    "        10, 26, 18, 15, 0, 27, 3, 17, 24\n",
    "    ],\n",
    "    6: [\n",
    "        20, 12, 9, 23, 10, 26, 15, 22, 24, 14,\n",
    "        13, 8, 7, 16, 2, 19, 4, 11, 3, 28,\n",
    "        6, 17, 27, 5, 25, 0, 21, 18, 1\n",
    "    ],\n",
    "    5: [\n",
    "        7, 22, 21, 24, 5, 4, 9, 16, 10, 28,\n",
    "        17, 12, 27, 23, 20, 14, 19, 11, 3, 6,\n",
    "        26, 13, 8, 25, 2, 15, 18, 1, 0\n",
    "    ],\n",
    "    0: [\n",
    "         8, 11, 6,  3, 12, 22, 1, 23, 19, 10, 26, 18,  5,  9, 21, 20, 13,  7,\n",
    "        16,  2, 15,  4, 14, 27, 24, 17, 28, 25,  0, 29, 30, 31, 32, 33, 34, 35,\n",
    "        36, 37, 38, 39, 40, 41, 42, 43, 44, 45, 46, 47, 48, 49, 50, 51, 52, 53,\n",
    "        54, 55, 56, 57, 58, 59, 60, 61, 62, 63, 64, 65, 66, 67, 68, 69, 70, 71,\n",
    "        72, 73, 74, 75, 76, 77, 78, 79, 80, 81, 82, 83, 84, 85, 86, 87, 88, 89,\n",
    "        90, 91, 92, 93, 94, 95, 96, 97, 98, 99,100,101,102,103,104,105,106,107,\n",
    "       108,109,110,111,112,113,114,115,116,117,118,119,120,121,122,123,124,125,\n",
    "       126,127,128,129,130,131,132,133,134,135,136,137,138,139,140,141,142,143,\n",
    "       144,145,146,147,148,149,150,151,152,153,154,155,156,157,158,159,160,161,\n",
    "       162,163,164,165,166,167,168,169,170,171,172,173,174,175,176,177,178,179,\n",
    "       180,181,182,183,184,185,186,187,188,189,190,191,192,193,194,195,196,197,\n",
    "       198,199,200,201,202,203,204,205,206,207,208,209,210,211,212,213,214,215,\n",
    "       216\n",
    "    ],\n",
    "    9: [\n",
    "        8,  6,  5, 11,  9, 14, 12, 20,  7, 13,\n",
    "       16, 15, 27,  4, 26, 28,  2, 24, 23, 18,\n",
    "       21, 25,  3, 19, 17, 22, 10,  1,  0\n",
    "    ],\n",
    "    25: [\n",
    "       17, 28,  2,  4, 12, 25, 27, 26,  6, 21,\n",
    "        1,  5, 23,  8, 22,  3, 15, 24, 19, 14,\n",
    "       18, 16, 11,  9, 13, 10,  7, 20,  0\n",
    "    ],\n",
    "    4: [\n",
    "       20, 23, 19, 27, 16, 24, 14, 21,  2, 13,\n",
    "        4, 15,  8,  7,  9, 12,  6, 10, 25, 11,\n",
    "       22, 28, 26, 17, 18,  5,  3,  0,  1\n",
    "    ],\n",
    "    21: [\n",
    "       12,  9, 14, 24,  4, 21,  7,  5, 16, 26,\n",
    "       11,  2, 13,  6,  3, 25,  1, 23, 22, 28,\n",
    "       15, 20, 19,  8,  0, 27, 17, 10, 18\n",
    "    ],\n",
    "    1: [\n",
    "        7, 28,  2, 14,  9, 26, 19,  8, 11, 21,\n",
    "       23, 17, 20, 12, 10,  1, 25,  3,  4,  6,\n",
    "       22, 15, 18, 16, 13, 24, 27,  5,  0\n",
    "    ],\n",
    "    22: [\n",
    "        1,  3,  7, 14,  5, 17,  8, 12, 24, 26,\n",
    "       11, 25, 15,  2, 19, 21,  9, 16, 23,  6,\n",
    "        4, 13, 22, 27, 18, 28, 20, 10,  0\n",
    "    ],\n",
    "    3: [\n",
    "        8, 10, 13, 28, 20,  7, 14, 11,  6,  9,\n",
    "       22, 16, 19, 15, 26, 27, 21, 12, 23, 18,\n",
    "       25,  5,  2,  4, 17, 24,  3,  0,  1\n",
    "    ],\n",
    "    14: [\n",
    "       28, 18, 19, 25,  7,  2, 14,  6, 15, 16,\n",
    "        4,  5, 26, 21, 13,  3,  1, 12, 11, 10,\n",
    "       23, 22,  8, 17, 27, 24, 20,  9,  0\n",
    "    ],\n",
    "    7: [\n",
    "       12,  7, 19, 22, 11, 28, 14,  1, 23,  2,\n",
    "       24, 13, 21,  6,  8, 20,  9, 26, 10, 25,\n",
    "       16,  4,  5, 18, 15, 17,  3, 27,  0\n",
    "    ],\n",
    "    27: [\n",
    "       24,  3, 22, 21, 26, 18, 20, 13,  2, 23,\n",
    "       15,  7,  5, 28,  8,  9, 10,  4,  1, 17,\n",
    "       14, 27,  6, 12, 25, 11, 19, 16,  0\n",
    "    ],\n",
    "    12: [\n",
    "       12, 27, 24, 11,  8, 19, 25,  4,  3, 21,\n",
    "       17, 14,  9,  5, 20, 16,  2,  7,  1, 22,\n",
    "       23,  0, 26, 15, 18, 28,  6, 10, 13\n",
    "    ],\n",
    "    15: [\n",
    "       22, 14, 15, 21, 23, 18, 16, 13, 17, 28,\n",
    "        5, 11,  2, 27, 20,  4, 19, 26, 25, 24,\n",
    "        9, 12,  7, 10,  8,  6,  1,  0,  3\n",
    "    ],\n",
    "    24: [\n",
    "       11, 16, 17, 25, 18, 10, 26,  9, 28, 24,\n",
    "       27, 13, 12,  1,  7,  5, 21,  2,  6,  8,\n",
    "       14,  3,  4, 19, 22, 20, 23, 15,  0\n",
    "    ],\n",
    "    26: [\n",
    "       10, 27, 24, 18, 14,  1, 16, 22,  3,  4,\n",
    "       28,  2,  5, 12, 25,  9,  8,  6, 26, 20,\n",
    "       21, 15, 13, 17, 23,  7, 19, 11,  0\n",
    "    ],\n",
    "    18: [\n",
    "       13, 17, 22,  2, 10, 28,  4, 21, 23,  6,\n",
    "       14, 20,  1, 12, 19,  9,  5, 16,  3, 11,\n",
    "       25,  0, 15, 26,  8, 24,  7, 18, 27\n",
    "    ],\n",
    "    20: [\n",
    "        8,  3, 14, 16, 28, 13,  5,  9,  7, 11,\n",
    "       25, 19,  4, 26,  2, 23, 21,  1, 22,  0,\n",
    "       12, 17, 24, 10, 15, 27,  6, 18, 20\n",
    "    ],\n",
    "    23: [\n",
    "        5,  3, 22,  1, 21, 16,  6, 28, 11,  2,\n",
    "       23,  4, 24, 17, 25, 12, 27, 19, 15, 14,\n",
    "       26,  9, 10, 18, 20,  7, 13,  8,  0\n",
    "    ],\n",
    "    19: [\n",
    "       16, 24, 26,  6, 22,  8, 14, 21, 12, 28,\n",
    "       11,  4, 15, 20,  1, 18,  0,  5,  7, 19,\n",
    "       13, 25, 10,  9, 17,  3,  2, 27, 23\n",
    "    ],\n",
    "    10: [\n",
    "       14, 24, 16,  3,  4, 23, 15, 13, 19, 11,\n",
    "        6, 25,  8,  2, 27,  9,  7, 18, 21, 17,\n",
    "        5, 10,  1, 22, 26, 12, 20,  0, 28\n",
    "    ],\n",
    "    17: [\n",
    "       17, 20, 25, 12, 14, 21, 28, 26, 15,  9,\n",
    "        1, 18,  7, 13, 22,  2,  3, 24,  5, 11,\n",
    "       27, 16,  4,  8, 19, 10,  0,  6, 23\n",
    "    ],\n",
    "    2: [\n",
    "       10,  4,  8, 28, 14, 11, 20, 23,  2,  6,\n",
    "       12, 25, 26, 21, 17, 18,  7,  1, 22, 13,\n",
    "        3, 15, 24, 16,  5, 19,  0, 27,  9\n",
    "    ],\n",
    "    16: [\n",
    "        1, 10, 26,  8, 23, 18, 13, 15, 25, 28,\n",
    "       21,  6, 27, 12, 11, 19,  2,  4, 16, 14,\n",
    "       24,  5, 17,  3, 20,  0, 22,  9,  7\n",
    "    ]\n",
    "}"
   ]
  },
  {
   "cell_type": "code",
   "execution_count": 6,
   "id": "70799d1b-c0cb-4c92-aa66-0a1480bc2d8d",
   "metadata": {},
   "outputs": [],
   "source": [
    "import pandas as pd\n",
    "from pathlib import PureWindowsPath, Path\n",
    "\n",
    "def load_csv(csv_path, dir_path):\n",
    "    def set_abs_pth(x):\n",
    "        return (dir_path / Path(PureWindowsPath(x).as_posix())).as_posix()\n",
    "    df = pd.read_csv(Path(dir_path) / csv_path)\n",
    "    df[\"fp\"] = df[\"fp\"].apply(set_abs_pth)\n",
    "    return df\n",
    "\n",
    "train_df = load_csv(\"train.csv\", \"/workspace/train\")[[\"fp\", \"label\"]].reset_index(drop=True)\n",
    "val_df = load_csv(\"val.csv\", \"/workspace/val\")[[\"fp\", \"label\"]].reset_index(drop=True)"
   ]
  },
  {
   "cell_type": "code",
   "execution_count": null,
   "id": "bf2f8851-ee55-472a-a47d-53bd5109c153",
   "metadata": {},
   "outputs": [
    {
     "data": {
      "application/vnd.jupyter.widget-view+json": {
       "model_id": "127c2349f44d465a8d4c79a1a54bc622",
       "version_major": 2,
       "version_minor": 0
      },
      "text/plain": [
       "Loading pipeline components...:   0%|          | 0/5 [00:00<?, ?it/s]"
      ]
     },
     "metadata": {},
     "output_type": "display_data"
    },
    {
     "data": {
      "application/vnd.jupyter.widget-view+json": {
       "model_id": "98aec2ab643c471b8156a9b6a748ade0",
       "version_major": 2,
       "version_minor": 0
      },
      "text/plain": [
       "Loading pipeline components...:   0%|          | 0/5 [00:00<?, ?it/s]"
      ]
     },
     "metadata": {},
     "output_type": "display_data"
    },
    {
     "data": {
      "application/vnd.jupyter.widget-view+json": {
       "model_id": "35184d817d8f4a989f1a6f7048ea950e",
       "version_major": 2,
       "version_minor": 0
      },
      "text/plain": [
       "Loading checkpoint shards:   0%|          | 0/2 [00:00<?, ?it/s]"
      ]
     },
     "metadata": {},
     "output_type": "display_data"
    },
    {
     "name": "stderr",
     "output_type": "stream",
     "text": [
      "\u001b[34m\u001b[1mwandb\u001b[0m: Currently logged in as: \u001b[33mgrafit24\u001b[0m to \u001b[32mhttps://api.wandb.ai\u001b[0m. Use \u001b[1m`wandb login --relogin`\u001b[0m to force relogin\n"
     ]
    },
    {
     "data": {
      "text/html": [
       "Tracking run with wandb version 0.19.11"
      ],
      "text/plain": [
       "<IPython.core.display.HTML object>"
      ]
     },
     "metadata": {},
     "output_type": "display_data"
    },
    {
     "data": {
      "text/html": [
       "Run data is saved locally in <code>/workspace/synthetic-image-detection/notebooks/wandb/run-20250603_000757-a07mcomx</code>"
      ],
      "text/plain": [
       "<IPython.core.display.HTML object>"
      ]
     },
     "metadata": {},
     "output_type": "display_data"
    },
    {
     "data": {
      "text/html": [
       "Syncing run <strong><a href='https://wandb.ai/grafit24/sana-classifier/runs/a07mcomx' target=\"_blank\">v0_ultra_tokens_clean_crs</a></strong> to <a href='https://wandb.ai/grafit24/sana-classifier' target=\"_blank\">Weights & Biases</a> (<a href='https://wandb.me/developer-guide' target=\"_blank\">docs</a>)<br>"
      ],
      "text/plain": [
       "<IPython.core.display.HTML object>"
      ]
     },
     "metadata": {},
     "output_type": "display_data"
    },
    {
     "data": {
      "text/html": [
       " View project at <a href='https://wandb.ai/grafit24/sana-classifier' target=\"_blank\">https://wandb.ai/grafit24/sana-classifier</a>"
      ],
      "text/plain": [
       "<IPython.core.display.HTML object>"
      ]
     },
     "metadata": {},
     "output_type": "display_data"
    },
    {
     "data": {
      "text/html": [
       " View run at <a href='https://wandb.ai/grafit24/sana-classifier/runs/a07mcomx' target=\"_blank\">https://wandb.ai/grafit24/sana-classifier/runs/a07mcomx</a>"
      ],
      "text/plain": [
       "<IPython.core.display.HTML object>"
      ]
     },
     "metadata": {},
     "output_type": "display_data"
    },
    {
     "data": {
      "application/vnd.jupyter.widget-view+json": {
       "model_id": "5f057450e7a64c54af87a3bec61e97bc",
       "version_major": 2,
       "version_minor": 0
      },
      "text/plain": [
       "Epoch 1 [train]:   0%|          | 0/6196 [00:00<?, ?it/s]"
      ]
     },
     "metadata": {},
     "output_type": "display_data"
    }
   ],
   "source": [
    "pipe = train(\n",
    "    train_df=train_df,\n",
    "    val_df=val_df,\n",
    "    pretrained_model=\"Efficient-Large-Model/Sana_600M_512px_diffusers\",\n",
    "    cfg_params=SanaClassifierParameters(\n",
    "        proj_dim=512,\n",
    "        hidden_dims=[512, 256, 128],\n",
    "        drop_p=.1,\n",
    "    ),\n",
    "    t2i_params=SanaText2ImgParameters(prompt=prompt, t=.25),\n",
    "    transformer_layers=list(transformer_layers_and_token_ids_top100),\n",
    "    output_dir=\"run_v0\",\n",
    "    batch_size=32,\n",
    "    epochs=5,\n",
    "    lr=2e-4,\n",
    "    warmup_steps = 100,\n",
    "    logging_steps = 10,\n",
    "    save_steps = 1000,\n",
    "    seed = 42,\n",
    "    device=\"cuda\",\n",
    "    optimizer_type=\"adam\",\n",
    "    wandb_project=\"sana-classifier\",\n",
    "    wandb_run_name=\"v0_ultra_tokens_clean_crs\",\n",
    "    verbose=True,\n",
    "    progress_bar=True,\n",
    "    wandb_enabled=True,\n",
    ")"
   ]
  },
  {
   "cell_type": "code",
   "execution_count": null,
   "id": "d3bc784e-21ed-4501-ae81-56170fe7bf2e",
   "metadata": {},
   "outputs": [],
   "source": []
  }
 ],
 "metadata": {
  "kernelspec": {
   "display_name": "Python 3 (ipykernel)",
   "language": "python",
   "name": "python3"
  },
  "language_info": {
   "codemirror_mode": {
    "name": "ipython",
    "version": 3
   },
   "file_extension": ".py",
   "mimetype": "text/x-python",
   "name": "python",
   "nbconvert_exporter": "python",
   "pygments_lexer": "ipython3",
   "version": "3.11.10"
  }
 },
 "nbformat": 4,
 "nbformat_minor": 5
}
