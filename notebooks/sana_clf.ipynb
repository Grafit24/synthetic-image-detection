{
 "cells": [
  {
   "cell_type": "code",
   "execution_count": 1,
   "id": "aa31f422",
   "metadata": {},
   "outputs": [],
   "source": [
    "import sys\n",
    "import os\n",
    "\n",
    "root_pth = os.path.abspath(os.path.join(os.getcwd(), \"..\"))\n",
    "if root_pth not in sys.path:\n",
    "    sys.path.append(root_pth)"
   ]
  },
  {
   "cell_type": "code",
   "execution_count": 2,
   "id": "a007f54e-af0e-45b0-aaf4-fbe8b6da6a11",
   "metadata": {},
   "outputs": [],
   "source": [
    "from sana_clf.pipeline import SanaClassifierPipeline, SanaClassifierParameters, SanaText2ImgParameters\n",
    "from sana_clf.train import train"
   ]
  },
  {
   "cell_type": "code",
   "execution_count": 6,
   "id": "03743346-79d3-40ee-bf02-6b50085673a4",
   "metadata": {},
   "outputs": [],
   "source": [
    "prompt = \"\"\"complex. detailed. simple. bokeh effect. abstract. photorealistic. artistic. stylized. aesthetic.\n",
    "cinematic. instagram filters. color correction. midjourney. ugly. distorted. blurry. rendering.\n",
    "AI-generated. synthetic. high quality. low quality. pixelated. low illumination.\"\"\""
   ]
  },
  {
   "cell_type": "code",
   "execution_count": 7,
   "id": "70799d1b-c0cb-4c92-aa66-0a1480bc2d8d",
   "metadata": {},
   "outputs": [],
   "source": [
    "import pandas as pd\n",
    "from pathlib import PureWindowsPath, Path\n",
    "\n",
    "def load_csv(csv_path, dir_path):\n",
    "    def set_abs_pth(x):\n",
    "        return (dir_path / Path(PureWindowsPath(x).as_posix())).as_posix()\n",
    "    df = pd.read_csv(Path(dir_path) / csv_path)\n",
    "    df[\"fp\"] = df[\"fp\"].apply(set_abs_pth)\n",
    "    return df\n",
    "\n",
    "train_df = load_csv(\"train.csv\", \"/workspace/train\")[[\"fp\", \"label\"]].sample(20000, random_state=42).reset_index(drop=True)\n",
    "val_df = load_csv(\"val.csv\", \"/workspace/val\")[[\"fp\", \"label\"]].sample(1000, random_state=42).reset_index(drop=True)"
   ]
  },
  {
   "cell_type": "code",
   "execution_count": 8,
   "id": "bf2f8851-ee55-472a-a47d-53bd5109c153",
   "metadata": {},
   "outputs": [
    {
     "data": {
      "application/vnd.jupyter.widget-view+json": {
       "model_id": "56466e8facf7427fb4612d6117fbac23",
       "version_major": 2,
       "version_minor": 0
      },
      "text/plain": [
       "Loading pipeline components...:   0%|          | 0/5 [00:00<?, ?it/s]"
      ]
     },
     "metadata": {},
     "output_type": "display_data"
    },
    {
     "data": {
      "application/vnd.jupyter.widget-view+json": {
       "model_id": "06b6331dadb94d77ad1ae63e4e5a7bdf",
       "version_major": 2,
       "version_minor": 0
      },
      "text/plain": [
       "Loading checkpoint shards:   0%|          | 0/2 [00:00<?, ?it/s]"
      ]
     },
     "metadata": {},
     "output_type": "display_data"
    },
    {
     "data": {
      "text/html": [
       "Tracking run with wandb version 0.19.11"
      ],
      "text/plain": [
       "<IPython.core.display.HTML object>"
      ]
     },
     "metadata": {},
     "output_type": "display_data"
    },
    {
     "data": {
      "text/html": [
       "Run data is saved locally in <code>/workspace/synthetic-image-detection/notebooks/wandb/run-20250602_200144-it8aiax3</code>"
      ],
      "text/plain": [
       "<IPython.core.display.HTML object>"
      ]
     },
     "metadata": {},
     "output_type": "display_data"
    },
    {
     "data": {
      "text/html": [
       "Syncing run <strong><a href='https://wandb.ai/grafit24/sana-classifier/runs/it8aiax3' target=\"_blank\">5layers_base_prompt</a></strong> to <a href='https://wandb.ai/grafit24/sana-classifier' target=\"_blank\">Weights & Biases</a> (<a href='https://wandb.me/developer-guide' target=\"_blank\">docs</a>)<br>"
      ],
      "text/plain": [
       "<IPython.core.display.HTML object>"
      ]
     },
     "metadata": {},
     "output_type": "display_data"
    },
    {
     "data": {
      "text/html": [
       " View project at <a href='https://wandb.ai/grafit24/sana-classifier' target=\"_blank\">https://wandb.ai/grafit24/sana-classifier</a>"
      ],
      "text/plain": [
       "<IPython.core.display.HTML object>"
      ]
     },
     "metadata": {},
     "output_type": "display_data"
    },
    {
     "data": {
      "text/html": [
       " View run at <a href='https://wandb.ai/grafit24/sana-classifier/runs/it8aiax3' target=\"_blank\">https://wandb.ai/grafit24/sana-classifier/runs/it8aiax3</a>"
      ],
      "text/plain": [
       "<IPython.core.display.HTML object>"
      ]
     },
     "metadata": {},
     "output_type": "display_data"
    },
    {
     "name": "stderr",
     "output_type": "stream",
     "text": [
      "huggingface/tokenizers: The current process just got forked, after parallelism has already been used. Disabling parallelism to avoid deadlocks...\n",
      "To disable this warning, you can either:\n",
      "\t- Avoid using `tokenizers` before the fork if possible\n",
      "\t- Explicitly set the environment variable TOKENIZERS_PARALLELISM=(true | false)\n",
      "huggingface/tokenizers: The current process just got forked, after parallelism has already been used. Disabling parallelism to avoid deadlocks...\n",
      "To disable this warning, you can either:\n",
      "\t- Avoid using `tokenizers` before the fork if possible\n",
      "\t- Explicitly set the environment variable TOKENIZERS_PARALLELISM=(true | false)\n",
      "huggingface/tokenizers: The current process just got forked, after parallelism has already been used. Disabling parallelism to avoid deadlocks...\n",
      "To disable this warning, you can either:\n",
      "\t- Avoid using `tokenizers` before the fork if possible\n",
      "\t- Explicitly set the environment variable TOKENIZERS_PARALLELISM=(true | false)\n",
      "huggingface/tokenizers: The current process just got forked, after parallelism has already been used. Disabling parallelism to avoid deadlocks...\n",
      "To disable this warning, you can either:\n",
      "\t- Avoid using `tokenizers` before the fork if possible\n",
      "\t- Explicitly set the environment variable TOKENIZERS_PARALLELISM=(true | false)\n",
      "huggingface/tokenizers: The current process just got forked, after parallelism has already been used. Disabling parallelism to avoid deadlocks...\n",
      "To disable this warning, you can either:\n",
      "\t- Avoid using `tokenizers` before the fork if possible\n",
      "\t- Explicitly set the environment variable TOKENIZERS_PARALLELISM=(true | false)\n",
      "huggingface/tokenizers: The current process just got forked, after parallelism has already been used. Disabling parallelism to avoid deadlocks...\n",
      "To disable this warning, you can either:\n",
      "\t- Avoid using `tokenizers` before the fork if possible\n",
      "\t- Explicitly set the environment variable TOKENIZERS_PARALLELISM=(true | false)\n",
      "huggingface/tokenizers: The current process just got forked, after parallelism has already been used. Disabling parallelism to avoid deadlocks...\n",
      "To disable this warning, you can either:\n",
      "\t- Avoid using `tokenizers` before the fork if possible\n",
      "\t- Explicitly set the environment variable TOKENIZERS_PARALLELISM=(true | false)\n",
      "huggingface/tokenizers: The current process just got forked, after parallelism has already been used. Disabling parallelism to avoid deadlocks...\n",
      "To disable this warning, you can either:\n",
      "\t- Avoid using `tokenizers` before the fork if possible\n",
      "\t- Explicitly set the environment variable TOKENIZERS_PARALLELISM=(true | false)\n"
     ]
    },
    {
     "data": {
      "application/vnd.jupyter.widget-view+json": {
       "model_id": "",
       "version_major": 2,
       "version_minor": 0
      },
      "text/plain": [
       "Epoch 1 [train]:   0%|          | 0/5000 [00:00<?, ?it/s]"
      ]
     },
     "metadata": {},
     "output_type": "display_data"
    },
    {
     "name": "stdout",
     "output_type": "stream",
     "text": [
      "Checkpoint сохранен: test_run/checkpoint-step-5000\n",
      "Checkpoint сохранен: test_run/checkpoint-epoch-1\n"
     ]
    },
    {
     "name": "stderr",
     "output_type": "stream",
     "text": [
      "huggingface/tokenizers: The current process just got forked, after parallelism has already been used. Disabling parallelism to avoid deadlocks...\n",
      "To disable this warning, you can either:\n",
      "\t- Avoid using `tokenizers` before the fork if possible\n",
      "\t- Explicitly set the environment variable TOKENIZERS_PARALLELISM=(true | false)\n",
      "huggingface/tokenizers: The current process just got forked, after parallelism has already been used. Disabling parallelism to avoid deadlocks...\n",
      "To disable this warning, you can either:\n",
      "\t- Avoid using `tokenizers` before the fork if possible\n",
      "\t- Explicitly set the environment variable TOKENIZERS_PARALLELISM=(true | false)\n",
      "huggingface/tokenizers: The current process just got forked, after parallelism has already been used. Disabling parallelism to avoid deadlocks...\n",
      "To disable this warning, you can either:\n",
      "\t- Avoid using `tokenizers` before the fork if possible\n",
      "\t- Explicitly set the environment variable TOKENIZERS_PARALLELISM=(true | false)\n",
      "huggingface/tokenizers: The current process just got forked, after parallelism has already been used. Disabling parallelism to avoid deadlocks...\n",
      "To disable this warning, you can either:\n",
      "\t- Avoid using `tokenizers` before the fork if possible\n",
      "\t- Explicitly set the environment variable TOKENIZERS_PARALLELISM=(true | false)\n"
     ]
    },
    {
     "data": {
      "application/vnd.jupyter.widget-view+json": {
       "model_id": "",
       "version_major": 2,
       "version_minor": 0
      },
      "text/plain": [
       "Epoch 1 [val]:   0%|          | 0/250 [00:00<?, ?it/s]"
      ]
     },
     "metadata": {},
     "output_type": "display_data"
    },
    {
     "name": "stderr",
     "output_type": "stream",
     "text": [
      "huggingface/tokenizers: The current process just got forked, after parallelism has already been used. Disabling parallelism to avoid deadlocks...\n",
      "To disable this warning, you can either:\n",
      "\t- Avoid using `tokenizers` before the fork if possible\n",
      "\t- Explicitly set the environment variable TOKENIZERS_PARALLELISM=(true | false)\n",
      "huggingface/tokenizers: The current process just got forked, after parallelism has already been used. Disabling parallelism to avoid deadlocks...\n",
      "To disable this warning, you can either:\n",
      "\t- Avoid using `tokenizers` before the fork if possible\n",
      "\t- Explicitly set the environment variable TOKENIZERS_PARALLELISM=(true | false)\n",
      "huggingface/tokenizers: The current process just got forked, after parallelism has already been used. Disabling parallelism to avoid deadlocks...\n",
      "To disable this warning, you can either:\n",
      "\t- Avoid using `tokenizers` before the fork if possible\n",
      "\t- Explicitly set the environment variable TOKENIZERS_PARALLELISM=(true | false)\n",
      "huggingface/tokenizers: The current process just got forked, after parallelism has already been used. Disabling parallelism to avoid deadlocks...\n",
      "To disable this warning, you can either:\n",
      "\t- Avoid using `tokenizers` before the fork if possible\n",
      "\t- Explicitly set the environment variable TOKENIZERS_PARALLELISM=(true | false)\n"
     ]
    },
    {
     "name": "stdout",
     "output_type": "stream",
     "text": [
      "Validation results for epoch 1:\n",
      "  Accuracy:  0.8230\n",
      "  Precision: 0.8042\n",
      "  Recall:    0.8736\n",
      "  F1 Score:  0.8375\n",
      "  ROC AUC:   0.9108\n",
      "  Confusion Matrix:\n",
      "[[367 111]\n",
      " [ 66 456]]\n",
      "  Classification Report:\n",
      "              precision    recall  f1-score   support\n",
      "\n",
      "         0.0       0.85      0.77      0.81       478\n",
      "         1.0       0.80      0.87      0.84       522\n",
      "\n",
      "    accuracy                           0.82      1000\n",
      "   macro avg       0.83      0.82      0.82      1000\n",
      "weighted avg       0.82      0.82      0.82      1000\n",
      "\n"
     ]
    },
    {
     "data": {
      "text/html": [],
      "text/plain": [
       "<IPython.core.display.HTML object>"
      ]
     },
     "metadata": {},
     "output_type": "display_data"
    },
    {
     "data": {
      "text/html": [
       "<br>    <style><br>        .wandb-row {<br>            display: flex;<br>            flex-direction: row;<br>            flex-wrap: wrap;<br>            justify-content: flex-start;<br>            width: 100%;<br>        }<br>        .wandb-col {<br>            display: flex;<br>            flex-direction: column;<br>            flex-basis: 100%;<br>            flex: 1;<br>            padding: 10px;<br>        }<br>    </style><br><div class=\"wandb-row\"><div class=\"wandb-col\"><h3>Run history:</h3><br/><table class=\"wandb\"><tr><td>step</td><td>▁▁▁▁▁▂▂▂▂▂▂▃▃▃▃▃▃▃▃▃▃▄▄▄▄▅▅▅▅▆▆▆▆▆▆▇████</td></tr><tr><td>train/loss</td><td>▄▄▅▄▂▁▃▁▁▄▂▅▄▂▂▂▂▂▂▁▁▁▂▃▁▅▂▄▁▂▂▁▂▁█▆▁▂▂▂</td></tr><tr><td>val/accuracy</td><td>▁</td></tr><tr><td>val/epoch</td><td>▁</td></tr><tr><td>val/f1</td><td>▁</td></tr><tr><td>val/precision</td><td>▁</td></tr><tr><td>val/recall</td><td>▁</td></tr><tr><td>val/roc_auc</td><td>▁</td></tr></table><br/></div><div class=\"wandb-col\"><h3>Run summary:</h3><br/><table class=\"wandb\"><tr><td>step</td><td>5000</td></tr><tr><td>train/loss</td><td>0.12408</td></tr><tr><td>val/accuracy</td><td>0.823</td></tr><tr><td>val/epoch</td><td>1</td></tr><tr><td>val/f1</td><td>0.83747</td></tr><tr><td>val/precision</td><td>0.80423</td></tr><tr><td>val/recall</td><td>0.87356</td></tr><tr><td>val/roc_auc</td><td>0.91077</td></tr></table><br/></div></div>"
      ],
      "text/plain": [
       "<IPython.core.display.HTML object>"
      ]
     },
     "metadata": {},
     "output_type": "display_data"
    },
    {
     "data": {
      "text/html": [
       " View run <strong style=\"color:#cdcd00\">5layers_base_prompt</strong> at: <a href='https://wandb.ai/grafit24/sana-classifier/runs/it8aiax3' target=\"_blank\">https://wandb.ai/grafit24/sana-classifier/runs/it8aiax3</a><br> View project at: <a href='https://wandb.ai/grafit24/sana-classifier' target=\"_blank\">https://wandb.ai/grafit24/sana-classifier</a><br>Synced 5 W&B file(s), 0 media file(s), 0 artifact file(s) and 0 other file(s)"
      ],
      "text/plain": [
       "<IPython.core.display.HTML object>"
      ]
     },
     "metadata": {},
     "output_type": "display_data"
    },
    {
     "data": {
      "text/html": [
       "Find logs at: <code>./wandb/run-20250602_200144-it8aiax3/logs</code>"
      ],
      "text/plain": [
       "<IPython.core.display.HTML object>"
      ]
     },
     "metadata": {},
     "output_type": "display_data"
    }
   ],
   "source": [
    "pipe = train(\n",
    "    train_df=train_df,\n",
    "    val_df=val_df,\n",
    "    pretrained_model=\"Efficient-Large-Model/Sana_600M_512px_diffusers\",\n",
    "    cfg_params=SanaClassifierParameters(\n",
    "        proj_dim=512,\n",
    "        hidden_dims=[512, 128],\n",
    "        drop_p=.1,\n",
    "    ),\n",
    "    t2i_params=SanaText2ImgParameters(prompt=prompt, t=.25),\n",
    "    transformer_layers=[24, 25, 9, 23, 22],\n",
    "    output_dir=\"test_run\",\n",
    "    batch_size=4,\n",
    "    epochs=1,\n",
    "    lr=1e-4,\n",
    "    warmup_steps = 0,\n",
    "    logging_steps = 10,\n",
    "    save_steps = 200,\n",
    "    seed = 42,\n",
    "    device=\"cuda\",\n",
    "    wandb_project=\"sana-classifier\",\n",
    "    wandb_run_name=\"5layers_base_prompt\",\n",
    "    verbose=True,\n",
    "    progress_bar=True,\n",
    "    wandb_enabled=True,\n",
    ")"
   ]
  },
  {
   "cell_type": "code",
   "execution_count": null,
   "id": "d3bc784e-21ed-4501-ae81-56170fe7bf2e",
   "metadata": {},
   "outputs": [],
   "source": []
  }
 ],
 "metadata": {
  "kernelspec": {
   "display_name": "Python 3 (ipykernel)",
   "language": "python",
   "name": "python3"
  },
  "language_info": {
   "codemirror_mode": {
    "name": "ipython",
    "version": 3
   },
   "file_extension": ".py",
   "mimetype": "text/x-python",
   "name": "python",
   "nbconvert_exporter": "python",
   "pygments_lexer": "ipython3",
   "version": "3.11.10"
  }
 },
 "nbformat": 4,
 "nbformat_minor": 5
}
